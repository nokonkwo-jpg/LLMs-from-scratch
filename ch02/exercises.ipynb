{
 "cells": [
  {
   "metadata": {
    "ExecuteTime": {
     "end_time": "2025-03-13T00:25:56.772185Z",
     "start_time": "2025-03-13T00:25:56.763798Z"
    }
   },
   "cell_type": "code",
   "source": [
    "# Exercise 2.1\n",
    "import tiktoken\n",
    "\n",
    "# Initialize the tokenizer\n",
    "tokenizer = tiktoken.get_encoding(\"gpt2\")\n",
    "\n",
    "# Tokenize a made-up string\n",
    "token_ids = tokenizer.encode(\"Akwirw ier\")\n",
    "print(token_ids)\n",
    "\n",
    "# Examine each token individually\n",
    "for token_id in token_ids:\n",
    "    print(f\"{token_id} -> {tokenizer.decode([token_id])}\")\n",
    "\n",
    "# Verify individual tokens\n",
    "print(tokenizer.encode(\"Ak\"))\n",
    "print(tokenizer.encode(\"w\"))\n",
    "print(tokenizer.encode(\"ir\"))\n",
    "print(tokenizer.encode(\"w\"))\n",
    "print(tokenizer.encode(\" \"))\n",
    "print(tokenizer.encode(\"ier\"))\n",
    "\n",
    "# Verify decoding works correctly\n",
    "print(tokenizer.decode([33901, 86, 343, 86, 220, 959]))"
   ],
   "id": "16b4ba20c473cfe8",
   "outputs": [
    {
     "name": "stdout",
     "output_type": "stream",
     "text": [
      "[33901, 86, 343, 86, 220, 959]\n",
      "33901 -> Ak\n",
      "86 -> w\n",
      "343 -> ir\n",
      "86 -> w\n",
      "220 ->  \n",
      "959 -> ier\n",
      "[33901]\n",
      "[86]\n",
      "[343]\n",
      "[86]\n",
      "[220]\n",
      "[959]\n",
      "Akwirw ier\n"
     ]
    }
   ],
   "execution_count": 7
  },
  {
   "metadata": {
    "ExecuteTime": {
     "end_time": "2025-03-12T18:45:51.608591Z",
     "start_time": "2025-03-12T18:45:51.329314Z"
    }
   },
   "cell_type": "code",
   "source": [
    "# Exercise 2.2\n",
    "import torch\n",
    "from torch.utils.data import Dataset, DataLoader\n",
    "\n",
    "class GPTDataset(Dataset):\n",
    "    def __init__(self, text, tokenizer, max_length, stride):\n",
    "        self.input_ids = []\n",
    "        self.target_ids = []\n",
    "\n",
    "        # Tokenize the entire text\n",
    "        all_tokens = tokenizer.encode(text, allowed_special={\"<|endoftext|>\"})\n",
    "\n",
    "        # Create sliding windows of tokens\n",
    "        for i in range(0, len(all_tokens) - max_length, stride):\n",
    "            # Input is current window\n",
    "            x = all_tokens[i:i + max_length]\n",
    "            # Target is shifted by 1 (next token prediction)\n",
    "            y = all_tokens[i+1:i + max_length + 1]\n",
    "\n",
    "            self.input_ids.append(torch.tensor(x))\n",
    "            self.target_ids.append(torch.tensor(y))\n",
    "\n",
    "    def __len__(self):\n",
    "        return len(self.input_ids)\n",
    "\n",
    "    def __getitem__(self, idx):\n",
    "        return self.input_ids[idx], self.target_ids[idx]\n",
    "\n",
    "def create_dataloader(text_file, batch_size=4, max_length=256, stride=128):\n",
    "    # Read text file\n",
    "    with open(text_file, \"r\", encoding=\"utf-8\") as f:\n",
    "        text = f.read()\n",
    "\n",
    "    # Initialize tokenizer\n",
    "    tokenizer = tiktoken.get_encoding(\"gpt2\")\n",
    "\n",
    "    # Create dataset\n",
    "    dataset = GPTDataset(text, tokenizer, max_length, stride)\n",
    "\n",
    "    # Create and return dataloader\n",
    "    return DataLoader(dataset, batch_size=batch_size)\n",
    "\n",
    "# Test the dataloader with small context windows\n",
    "with open(\"the-verdict.txt\", \"r\", encoding=\"utf-8\") as f:\n",
    "    text = f.read()\n",
    "\n",
    "# Test with small context length\n",
    "dataloader_small = create_dataloader(\"the-verdict.txt\", batch_size=4, max_length=2, stride=2)\n",
    "for batch in dataloader_small:\n",
    "    inputs, targets = batch\n",
    "    print(\"Small context inputs:\")\n",
    "    print(inputs)\n",
    "    break\n",
    "\n",
    "# Test with larger context length\n",
    "dataloader_large = create_dataloader(\"the-verdict.txt\", batch_size=4, max_length=8, stride=2)\n",
    "for batch in dataloader_large:\n",
    "    inputs, targets = batch\n",
    "    print(\"Larger context inputs:\")\n",
    "    print(inputs)\n",
    "    break\n",
    "\n",
    "# Setup for embedding layers\n",
    "vocab_size = 50257  # GPT-2 vocabulary size\n",
    "embedding_dim = 256\n",
    "context_length = 4\n",
    "\n",
    "# Create embedding layers\n",
    "token_embeddings = torch.nn.Embedding(vocab_size, embedding_dim)\n",
    "position_embeddings = torch.nn.Embedding(context_length, embedding_dim)"
   ],
   "id": "e53a2cf842480eb9",
   "outputs": [
    {
     "name": "stdout",
     "output_type": "stream",
     "text": [
      "Small context inputs:\n",
      "tensor([[  40,  367],\n",
      "        [2885, 1464],\n",
      "        [1807, 3619],\n",
      "        [ 402,  271]])\n",
      "Larger context inputs:\n",
      "tensor([[   40,   367,  2885,  1464,  1807,  3619,   402,   271],\n",
      "        [ 2885,  1464,  1807,  3619,   402,   271, 10899,  2138],\n",
      "        [ 1807,  3619,   402,   271, 10899,  2138,   257,  7026],\n",
      "        [  402,   271, 10899,  2138,   257,  7026, 15632,   438]])\n"
     ]
    }
   ],
   "execution_count": 5
  }
 ],
 "metadata": {
  "kernelspec": {
   "display_name": "Python 3",
   "language": "python",
   "name": "python3"
  },
  "language_info": {
   "codemirror_mode": {
    "name": "ipython",
    "version": 2
   },
   "file_extension": ".py",
   "mimetype": "text/x-python",
   "name": "python",
   "nbconvert_exporter": "python",
   "pygments_lexer": "ipython2",
   "version": "2.7.6"
  }
 },
 "nbformat": 4,
 "nbformat_minor": 5
}
