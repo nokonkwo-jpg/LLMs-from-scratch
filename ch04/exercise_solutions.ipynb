{
 "cells": [
  {
   "cell_type": "markdown",
   "id": "2ee7baa1",
   "metadata": {},
   "source": [
    "# Chapter 4: Exercise Solutions"
   ]
  },
  {
   "cell_type": "markdown",
   "id": "83c695f4",
   "metadata": {},
   "source": [
    "### Code for Exercise 4.1: Parameters in the Feed Forward vs. Attention Module"
   ]
  },
  {
   "cell_type": "code",
   "id": "870eb26f",
   "metadata": {
    "ExecuteTime": {
     "end_time": "2025-04-14T22:33:08.989100Z",
     "start_time": "2025-04-14T22:33:05.859776Z"
    }
   },
   "source": [
    "\n",
    "from gpt import TransformerBlock\n",
    "\n",
    "GPT_CONFIG_124M = {\n",
    "    \"vocab_size\": 50257,\n",
    "    \"context_length\": 1024,\n",
    "    \"emb_dim\": 768,\n",
    "    \"n_heads\": 12,\n",
    "    \"n_layers\": 12,\n",
    "    \"drop_rate\": 0.1,\n",
    "    \"qkv_bias\": False\n",
    "}\n",
    "\n",
    "block = TransformerBlock(GPT_CONFIG_124M)\n",
    "print(block)\n"
   ],
   "outputs": [
    {
     "name": "stdout",
     "output_type": "stream",
     "text": [
      "TransformerBlock(\n",
      "  (att): MultiHeadAttention(\n",
      "    (W_query): Linear(in_features=768, out_features=768, bias=False)\n",
      "    (W_key): Linear(in_features=768, out_features=768, bias=False)\n",
      "    (W_value): Linear(in_features=768, out_features=768, bias=False)\n",
      "    (out_proj): Linear(in_features=768, out_features=768, bias=True)\n",
      "    (dropout): Dropout(p=0.1, inplace=False)\n",
      "  )\n",
      "  (ff): FeedForward(\n",
      "    (layers): Sequential(\n",
      "      (0): Linear(in_features=768, out_features=3072, bias=True)\n",
      "      (1): GELU()\n",
      "      (2): Linear(in_features=3072, out_features=768, bias=True)\n",
      "    )\n",
      "  )\n",
      "  (norm1): LayerNorm()\n",
      "  (norm2): LayerNorm()\n",
      "  (drop_shortcut): Dropout(p=0.1, inplace=False)\n",
      ")\n"
     ]
    }
   ],
   "execution_count": 2
  },
  {
   "cell_type": "markdown",
   "id": "c9f4fa8e",
   "metadata": {},
   "source": [
    "**Feed Forward Module:**"
   ]
  },
  {
   "cell_type": "code",
   "id": "5b5bbdd4",
   "metadata": {
    "ExecuteTime": {
     "end_time": "2025-04-14T22:33:12.419423Z",
     "start_time": "2025-04-14T22:33:12.409282Z"
    }
   },
   "source": [
    "\n",
    "total_params = sum(p.numel() for p in block.ff.parameters())\n",
    "print(f\"Total number of parameters in feed forward module: {total_params:,}\")\n"
   ],
   "outputs": [
    {
     "name": "stdout",
     "output_type": "stream",
     "text": [
      "Total number of parameters in feed forward module: 4,722,432\n"
     ]
    }
   ],
   "execution_count": 3
  },
  {
   "cell_type": "markdown",
   "id": "5e83210f",
   "metadata": {},
   "source": [
    "**Attention Module:**"
   ]
  },
  {
   "cell_type": "code",
   "id": "7b5ce81c",
   "metadata": {
    "ExecuteTime": {
     "end_time": "2025-04-14T22:33:14.710509Z",
     "start_time": "2025-04-14T22:33:14.701995Z"
    }
   },
   "source": [
    "\n",
    "total_params = sum(p.numel() for p in block.att.parameters())\n",
    "print(f\"Total number of parameters in attention module: {total_params:,}\")\n"
   ],
   "outputs": [
    {
     "name": "stdout",
     "output_type": "stream",
     "text": [
      "Total number of parameters in attention module: 2,360,064\n"
     ]
    }
   ],
   "execution_count": 4
  },
  {
   "cell_type": "markdown",
   "id": "f6d4dc25",
   "metadata": {},
   "source": [
    "\n",
    "#### Exercise 4.2: Initializing Larger GPT Models\n",
    "\n",
    "We explore how to scale the GPT architecture by adjusting model configurations for larger models.\n",
    "\n",
    "- **GPT2-small:**  \n",
    "  - Embedding size: 768  \n",
    "  - Number of layers: 12  \n",
    "  - Number of heads: 12  \n",
    "\n",
    "- **GPT2-medium:**  \n",
    "  - Embedding size: 1024  \n",
    "  - Number of layers: 24  \n",
    "  - Number of heads: 16  \n",
    "\n",
    "- **GPT2-large:**  \n",
    "  - Embedding size: 1280  \n",
    "  - Number of layers: 36  \n",
    "  - Number of heads: 20  \n",
    "\n",
    "- **GPT2-XL:**  \n",
    "  - Embedding size: 1600  \n",
    "  - Number of layers: 48  \n",
    "  - Number of heads: 25\n"
   ]
  },
  {
   "cell_type": "code",
   "id": "dfdd5760",
   "metadata": {
    "ExecuteTime": {
     "end_time": "2025-04-14T22:33:20.727487Z",
     "start_time": "2025-04-14T22:33:20.716520Z"
    }
   },
   "source": [
    "\n",
    "GPT_CONFIG_124M = {\n",
    "    \"vocab_size\": 50257,\n",
    "    \"context_length\": 1024,\n",
    "    \"emb_dim\": 768,\n",
    "    \"n_heads\": 12,\n",
    "    \"n_layers\": 12,\n",
    "    \"drop_rate\": 0.1,\n",
    "    \"qkv_bias\": False\n",
    "}\n",
    "\n",
    "def get_config(base_config, model_name=\"gpt2-small\"):\n",
    "    GPT_CONFIG = base_config.copy()\n",
    "\n",
    "    if model_name == \"gpt2-small\":\n",
    "        GPT_CONFIG[\"emb_dim\"] = 768\n",
    "        GPT_CONFIG[\"n_layers\"] = 12\n",
    "        GPT_CONFIG[\"n_heads\"] = 12\n",
    "    elif model_name == \"gpt2-medium\":\n",
    "        GPT_CONFIG[\"emb_dim\"] = 1024\n",
    "        GPT_CONFIG[\"n_layers\"] = 24\n",
    "        GPT_CONFIG[\"n_heads\"] = 16\n",
    "    elif model_name == \"gpt2-large\":\n",
    "        GPT_CONFIG[\"emb_dim\"] = 1280\n",
    "        GPT_CONFIG[\"n_layers\"] = 36\n",
    "        GPT_CONFIG[\"n_heads\"] = 20\n",
    "    elif model_name == \"gpt2-xl\":\n",
    "        GPT_CONFIG[\"emb_dim\"] = 1600\n",
    "        GPT_CONFIG[\"n_layers\"] = 48\n",
    "        GPT_CONFIG[\"n_heads\"] = 25\n",
    "    else:\n",
    "        raise ValueError(f\"Incorrect model name {model_name}\")\n",
    "\n",
    "    return GPT_CONFIG\n"
   ],
   "outputs": [],
   "execution_count": 5
  },
  {
   "cell_type": "markdown",
   "id": "fd8ddfec",
   "metadata": {},
   "source": [
    "\n",
    "#### Exercise 4.3: Using Separate Dropout Parameters\n",
    "\n",
    "Here we separate the dropout configurations for different modules. Previously, dropout was applied globally; now, we assign specific dropout rates to embedding layers, attention layers, and shortcut connections.\n"
   ]
  },
  {
   "cell_type": "code",
   "id": "36a826a8",
   "metadata": {
    "ExecuteTime": {
     "end_time": "2025-04-14T22:33:24.826113Z",
     "start_time": "2025-04-14T22:33:24.820209Z"
    }
   },
   "source": [
    "\n",
    "GPT_CONFIG_124M = {\n",
    "    \"vocab_size\": 50257,\n",
    "    \"context_length\": 1024,\n",
    "    \"emb_dim\": 768,\n",
    "    \"n_heads\": 12,\n",
    "    \"n_layers\": 12,\n",
    "    \"drop_rate_emb\": 0.1,        # NEW: dropout for embedding layers\n",
    "    \"drop_rate_attn\": 0.1,       # NEW: dropout for multi-head attention\n",
    "    \"drop_rate_shortcut\": 0.1,   # NEW: dropout for shortcut connections\n",
    "    \"qkv_bias\": False\n",
    "}\n"
   ],
   "outputs": [],
   "execution_count": 6
  },
  {
   "cell_type": "code",
   "id": "6ace4bd6",
   "metadata": {
    "ExecuteTime": {
     "end_time": "2025-04-14T22:33:40.412625Z",
     "start_time": "2025-04-14T22:33:40.399061Z"
    }
   },
   "source": [
    "\n",
    "import torch.nn as nn\n",
    "from gpt import MultiHeadAttention, LayerNorm, FeedForward\n",
    "\n",
    "class TransformerBlock(nn.Module):\n",
    "    def __init__(self, cfg):\n",
    "        super().__init__()\n",
    "        self.att = MultiHeadAttention(\n",
    "            d_in=cfg[\"emb_dim\"],\n",
    "            d_out=cfg[\"emb_dim\"],\n",
    "            context_length=cfg[\"context_length\"],\n",
    "            num_heads=cfg[\"n_heads\"], \n",
    "            dropout=cfg[\"drop_rate_attn\"],  # NEW: dropout for multi-head attention\n",
    "            qkv_bias=cfg[\"qkv_bias\"])\n",
    "        self.ff = FeedForward(cfg)\n",
    "        self.norm1 = LayerNorm(cfg[\"emb_dim\"])\n",
    "        self.norm2 = LayerNorm(cfg[\"emb_dim\"])\n",
    "        self.drop_shortcut = nn.Dropout(cfg[\"drop_rate_shortcut\"])\n",
    "\n",
    "    def forward(self, x):\n",
    "        shortcut = x\n",
    "        x = self.norm1(x)\n",
    "        x = self.att(x)  # Shape [batch_size, num_tokens, emb_size]\n",
    "        x = self.drop_shortcut(x)\n",
    "        x = x + shortcut  # Add the original input back\n",
    "\n",
    "        shortcut = x\n",
    "        x = self.norm2(x)\n",
    "        x = self.ff(x)\n",
    "        x = self.drop_shortcut(x)\n",
    "        x = x + shortcut  # Add the original input back\n",
    "\n",
    "        return x\n",
    "\n",
    "class GPTModel(nn.Module):\n",
    "    def __init__(self, cfg):\n",
    "        super().__init__()\n",
    "        self.tok_emb = nn.Embedding(cfg[\"vocab_size\"], cfg[\"emb_dim\"])\n",
    "        self.pos_emb = nn.Embedding(cfg[\"context_length\"], cfg[\"emb_dim\"])\n",
    "        self.drop_emb = nn.Dropout(cfg[\"drop_rate_emb\"])  # NEW: dropout for embedding layers\n",
    "\n",
    "        self.trf_blocks = nn.Sequential(\n",
    "            *[TransformerBlock(cfg) for _ in range(cfg[\"n_layers\"])])\n",
    "        self.final_norm = LayerNorm(cfg[\"emb_dim\"])\n",
    "        self.out_head = nn.Linear(cfg[\"emb_dim\"], cfg[\"vocab_size\"], bias=False)\n",
    "\n",
    "    def forward(self, in_idx):\n",
    "        batch_size, seq_len = in_idx.shape\n",
    "        tok_embeds = self.tok_emb(in_idx)\n",
    "        pos_embeds = self.pos_emb(torch.arange(seq_len, device=in_idx.device))\n",
    "        x = tok_embeds + pos_embeds  # Shape [batch_size, num_tokens, emb_size]\n",
    "        x = self.drop_emb(x)\n",
    "        x = self.trf_blocks(x)\n",
    "        x = self.final_norm(x)\n",
    "        logits = self.out_head(x)\n",
    "        return logits\n"
   ],
   "outputs": [],
   "execution_count": 7
  },
  {
   "cell_type": "code",
   "id": "d0140c08",
   "metadata": {
    "ExecuteTime": {
     "end_time": "2025-04-14T22:33:47.895612Z",
     "start_time": "2025-04-14T22:33:46.584773Z"
    }
   },
   "source": [
    "\n",
    "import torch\n",
    "\n",
    "torch.manual_seed(123)\n",
    "model = GPTModel(GPT_CONFIG_124M)\n"
   ],
   "outputs": [],
   "execution_count": 8
  }
 ],
 "metadata": {
  "kernelspec": {
   "name": "python3",
   "language": "python",
   "display_name": "Python 3 (ipykernel)"
  }
 },
 "nbformat": 4,
 "nbformat_minor": 5
}
